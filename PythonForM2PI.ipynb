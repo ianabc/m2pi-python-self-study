{
 "cells": [
  {
   "cell_type": "markdown",
   "id": "be439ae8",
   "metadata": {},
   "source": [
    "# Math^Industry Python Prep Notes\n",
    "\n",
    "Prior to the taught material on Jupyter/Python, we would like you to self assess your skill level in Python and brush up your skills if necessary. Python is a very user friendly and is quite easy to learn. You'll find some notes below, but they are mostly intended to remind you of syntax rather than introduce the concepts. If the concepts are unfamiliar to you and there are _lots_ of other learning resources; here are a few examples\n",
    "\n",
    "* [Codeacademy](https://www.codecademy.com/learn/learn-python)\n",
    "* [Google's Python Class](https://developers.google.com/edu/python/)\n",
    "* [Learnpython.org](http://learnpython.org/)\n",
    "\n",
    "Please read through the material below and try to complete the exercises, referring to the above resources as needed. Some of these resources will let you run python snippets as part of the tutorial, but you can also access python in a number of other ways.\n",
    "\n",
    "  1. [m2pi.syzygy.ca](https://m2pi.syzygy.ca) - A free JupyterHub instance created by PIMS, accessible via your GitHub account\n",
    "  1. [Google Colab](https://colab.research.google.com/?utm_source=scs-index) - Google's browser based collaborative Jupyter environment\n",
    "  1. [Miniconda/Anaconda](https://www.anaconda.com/products/individual) - A local installation option if you want to run things directly on your own device.\n",
    "  \n",
    "Once you've selected an environment, let's get started!"
   ]
  },
  {
   "cell_type": "markdown",
   "id": "fdd83930",
   "metadata": {},
   "source": [
    "## 1.1 Basic Syntax\n",
    "\n",
    "Like other programming languages, Python [reserves some keywords](https://www.w3schools.com/python/python_ref_keywords.asp) and symbols for particular purposes. One important symbol is `=`, which isreserved for assignment in Python; it binds a name (on the left hand side) to an object (on the right hand side)"
   ]
  },
  {
   "cell_type": "code",
   "execution_count": null,
   "id": "bdc00416",
   "metadata": {},
   "outputs": [],
   "source": [
    "a = 1\n",
    "a = \"lemon\""
   ]
  },
  {
   "cell_type": "markdown",
   "id": "5d4bc2e8",
   "metadata": {},
   "source": [
    "Python is dynamically typed, so we can change the type of the object `a` refers to. It also supports the notion of multiple assignment using the `,` symbol"
   ]
  },
  {
   "cell_type": "code",
   "execution_count": null,
   "id": "144745ab",
   "metadata": {},
   "outputs": [],
   "source": [
    "a, b, c, _  = (1, 2, 3, 4)"
   ]
  },
  {
   "cell_type": "markdown",
   "id": "f18038a3",
   "metadata": {},
   "source": [
    "The `_` in the fourth position isn't a mistake here, Python variable names are [very flexible](https://www.w3schools.com/python/gloss_python_variable_names.asp), and in this case a single underscore is a perfectly valid name..."
   ]
  },
  {
   "cell_type": "code",
   "execution_count": null,
   "id": "15508c7f",
   "metadata": {},
   "outputs": [],
   "source": [
    "_"
   ]
  },
  {
   "cell_type": "markdown",
   "id": "26457da3",
   "metadata": {},
   "source": [
    "That said, _conventionally_, people reading the code above, would usually interprate the 4th value as being \"thrown away\". Python's syntax is very flexible, which is great, but to avoid unintentional problems, there are a number of idioms and conventions people stick to. You'll see people referring to good code as [pythonic](https://intermediate-and-advanced-software-carpentry.readthedocs.io/en/latest/idiomatic-python.html). Trying to emulate these styles is very much recommended.\n",
    "\n",
    "Since `=` is used for assignment, we need another operator for equality, python uses `==`. There is also an `is` keyword which does something related but subtly different"
   ]
  },
  {
   "cell_type": "code",
   "execution_count": null,
   "id": "62a80541",
   "metadata": {},
   "outputs": [],
   "source": [
    "a = 3\n",
    "b = 3.0\n",
    "a == b"
   ]
  },
  {
   "cell_type": "code",
   "execution_count": null,
   "id": "2bb34668",
   "metadata": {},
   "outputs": [],
   "source": [
    "a is b"
   ]
  },
  {
   "cell_type": "markdown",
   "id": "7e77899a",
   "metadata": {},
   "source": [
    "The distinction is that `==` tests for equality of objects, while `is` tests if the names/variables refer to the same object in memory.\n",
    "\n",
    "Python has the usual arithmetic operators (`+`, `-`, `*`, `**`, `/`, `//`, `%`). In general these are overloaded and will do something sensible with lots of different types (e.g. `*` will repeat strings). There are also bitwise operators like `>>`, `&`, `|` etc. and convenience functions (`hex`, `bin`, `int`, `abs`, `round` etc.). In general python follows C-style operator precedence, but if in doubt add parentheses."
   ]
  },
  {
   "cell_type": "markdown",
   "id": "3de5240d",
   "metadata": {},
   "source": [
    "### 1.1.1 Types\n",
    "\n",
    "Python has a generous type system, including types for...\n",
    "\n",
    "  * Numbers: (ints, floats, complex numbers, Fractions, Decimals, ...). \n",
    "  * Strings: Python strings support unicode, indexing, slicing etc. and have _lots_ of very useful methods such as , `.upper()`, `.join()`, `.strip()`, `.startswith()`\n",
    "  * Files: Python has good support for the usual file operations and lots of useful methods such as `.read()`, `.readline()`, `.close()`. The file `open` keyword can be used with the `with` context manager to make sure file handles are tidied up as needed\n",
    "  * Collections\n",
    "    * Lists: ordered collections which support arbitrary objects, indexing, sliceing etc. and lots of nice methods (e.g. `.append`, `.pop`, `.reverse`)\n",
    "    * Dictionaries: the default hashed collection (`for k, v in D.items()`), again lots of really nice methods and fast lookups.\n",
    "    * Tuples: An immutable collection (being immutable can be very useful and also allows certain operations to be very fast)\n",
    "    * Sets: Supports unique entries + set operations. Fast lookups and lots of methods - see also [Collections in the Standard Library](https://docs.python.org/3/library/collections.html))"
   ]
  },
  {
   "cell_type": "markdown",
   "id": "91a58342",
   "metadata": {},
   "source": [
    "### 1.1.2 Conditionals\n",
    "\n",
    "The most common conditional statements in python are made up of the `if`, `elif` and `else` keywords."
   ]
  },
  {
   "cell_type": "code",
   "execution_count": null,
   "id": "0b8c17b2",
   "metadata": {},
   "outputs": [],
   "source": [
    "a = 5\n",
    "if a < 4:\n",
    "    print(\"A is less than 4\")\n",
    "elif a == 4:\n",
    "    print(\"A is equal to 4\")\n",
    "else:\n",
    "    print(\"A is greater than 4\")"
   ]
  },
  {
   "cell_type": "markdown",
   "id": "ca3be6d9",
   "metadata": {},
   "source": [
    "but there is also a ternary operator for short statements"
   ]
  },
  {
   "cell_type": "code",
   "execution_count": null,
   "id": "84c9e5ce",
   "metadata": {},
   "outputs": [],
   "source": [
    "e = a if b < c else b"
   ]
  },
  {
   "cell_type": "markdown",
   "id": "b588bb52",
   "metadata": {},
   "source": [
    "To implement more complicated logic, you can nest these conditionals as well as using the `and`, `or` and `not` keywords, and Python has a well developed notion of the boolean value of various objects...\n",
    "\n",
    "#### \"Truthy\" Values\n",
    "\n",
    "  * Non-empty lists, sets, tuples, dicts, strings\n",
    "  * non-zero values\n",
    "  * `True`\n",
    "\n",
    "### \"Falsy\" Values\n",
    "\n",
    "  * Empty lists, sets, tuples, dicts, strings\n",
    "  * Zero values \"0\", \"0.0\", \"0j\"\n",
    "  * `False`\n",
    "  * `None`"
   ]
  },
  {
   "cell_type": "markdown",
   "id": "d396015f",
   "metadata": {},
   "source": [
    "You can assign boolean values to variables in your code or you can use the results of a boolean expression directly. Try predicting the output of the cells below before executing them"
   ]
  },
  {
   "cell_type": "code",
   "execution_count": null,
   "id": "c32c8a43",
   "metadata": {},
   "outputs": [],
   "source": [
    "bool(None)"
   ]
  },
  {
   "cell_type": "code",
   "execution_count": null,
   "id": "03a44a95",
   "metadata": {},
   "outputs": [],
   "source": [
    "bool(1)"
   ]
  },
  {
   "cell_type": "code",
   "execution_count": null,
   "id": "92ebecea",
   "metadata": {},
   "outputs": [],
   "source": [
    "if (True or False):\n",
    "    print('a')\n",
    "else:\n",
    "    print('b')"
   ]
  },
  {
   "cell_type": "code",
   "execution_count": null,
   "id": "c836c133",
   "metadata": {},
   "outputs": [],
   "source": [
    "for i in [1, 7, 0, -3, -0.1]:\n",
    "    if i: print(i)"
   ]
  },
  {
   "cell_type": "code",
   "execution_count": null,
   "id": "fbbb992d",
   "metadata": {},
   "outputs": [],
   "source": []
  },
  {
   "cell_type": "code",
   "execution_count": null,
   "id": "90226995",
   "metadata": {},
   "outputs": [],
   "source": [
    "x = []\n",
    "if x: \n",
    "    print('if x') \n",
    "if x is not None: \n",
    "    print('if x is not None')"
   ]
  },
  {
   "cell_type": "code",
   "execution_count": null,
   "id": "03f6e251",
   "metadata": {},
   "outputs": [],
   "source": [
    "myList = [1, 3, \"cat\", -2, None, 13, dict(), \"dog\"]\n",
    "\n",
    "while myList:\n",
    "    item = myList.pop()\n",
    "    if item:\n",
    "        print(f\"I found a ... {item}\")\n",
    "    else:\n",
    "        print(f\"I found something, but I think it might be nothing!\")\n"
   ]
  },
  {
   "cell_type": "markdown",
   "id": "55410ad4",
   "metadata": {},
   "source": [
    "# 1.1.3 Indexing and Slicing\n",
    "\n",
    "Python indexing is very flexible and can help you solve lots of different kinds of problems. All collections in python support some notion of indexing, but we'll focus on numerical indexing (lists and tuples) for now and talk about hashes (dicts and sets) later. The advantage of numerical indexing is that the index values have a natural order $(0, 1, \\ldots, N-1)$"
   ]
  },
  {
   "cell_type": "code",
   "execution_count": null,
   "id": "48c741ba",
   "metadata": {},
   "outputs": [],
   "source": [
    "alphabet = [x for x in 'abcdefghijklmnopqrstuvwxyz']\n",
    "alphabet"
   ]
  },
  {
   "cell_type": "markdown",
   "id": "4cd5090e",
   "metadata": {},
   "source": [
    "Python is \"zero indexed\"; the first position in an index is labeled by 0 and if the list is $N$ elements long, the last position will be labeled by $N-1$"
   ]
  },
  {
   "cell_type": "code",
   "execution_count": null,
   "id": "e612c211",
   "metadata": {},
   "outputs": [],
   "source": [
    "print(f\"Starting at '{alphabet[0]}' and ending at '{alphabet[len(alphabet) - 1]}'\")"
   ]
  },
  {
   "cell_type": "markdown",
   "id": "e9f4b64a",
   "metadata": {},
   "source": [
    "We can specify ranges (called slices) by separating the start and stop with a colon, but notice that the start value is _inclusive_ while the end value is _exclusive_."
   ]
  },
  {
   "cell_type": "code",
   "execution_count": null,
   "id": "d854bc2a",
   "metadata": {},
   "outputs": [],
   "source": [
    "print(f\"positions [1:5] give us {alphabet[1:5]} but position [5] is '{alphabet[5]}'\")"
   ]
  },
  {
   "cell_type": "markdown",
   "id": "60b1da46",
   "metadata": {},
   "source": [
    "If you omit the start index, python assumes you want to start at position 0. If you omit the stop index, it assumes you want the last element. You can also specify a \"stride\" length to select regular patterns of items (e.g. every 3rd letter)"
   ]
  },
  {
   "cell_type": "code",
   "execution_count": null,
   "id": "41e803b5",
   "metadata": {},
   "outputs": [],
   "source": [
    "alphabet[5:15:3]"
   ]
  },
  {
   "cell_type": "markdown",
   "id": "7e446929",
   "metadata": {},
   "source": [
    "Python also lets you give negative numbers in any of the slice positions. In the start and stop positions, these are interpreted relative to the _end_ (-1 is the last element of the collection). For the stride position it means counting from the stop to the start position. The exclusive/inclusive behaviour still applies for a negative stride but it takes a little bit of getting used to!"
   ]
  },
  {
   "cell_type": "code",
   "execution_count": null,
   "id": "aa48abc3",
   "metadata": {},
   "outputs": [],
   "source": [
    "alphabet[5:0:-1]"
   ]
  },
  {
   "cell_type": "code",
   "execution_count": null,
   "id": "dfe01a3a",
   "metadata": {},
   "outputs": [],
   "source": [
    "alphabet[-10:-5:1]"
   ]
  },
  {
   "cell_type": "code",
   "execution_count": null,
   "id": "b37f2125",
   "metadata": {},
   "outputs": [],
   "source": [
    "alphabet[-5:-10:-2]"
   ]
  },
  {
   "cell_type": "markdown",
   "id": "ab7c70db",
   "metadata": {},
   "source": [
    "## 1.2 Exercises\n",
    "\n",
    "1. Given the edges of a triangle labled `a`, `b` and `c`, write a conditional test to say whether a triangle is equilateral, isoceles or scalene\n",
    "1. Given the following rubric assign test the value of a variable called grade and assign a letter grade\n",
    "  * A: grade > 80\n",
    "  * B: 70 < grade <= 80\n",
    "  * C: 60 < grade <= 70\n",
    "  * D: grade <= 60\n",
    "1. What is the output of\n",
    "```python\n",
    "a = 3\n",
    "b = 14\n",
    "print( not ( not a == 3 or not b == 14) )\n",
    "```\n",
    "1. Assign the following sentence to a variable (a string) then use the `.split()` method of the string to break it into a list of words. Finally, use indexing to display every second word \n",
    "> It was a bright cold day in April, and the clocks were striking 13.\n"
   ]
  },
  {
   "cell_type": "markdown",
   "id": "5775cadc",
   "metadata": {},
   "source": [
    "## 2.1 Loops\n",
    "\n",
    "Python has two main types of loop, `while` and `for`.\n",
    "\n",
    "#### 2.1.1 `while` loops\n",
    "Evaluate the condition at the top of the loop and if it is true, execute the body of the statement, if not go to the next statement\n"
   ]
  },
  {
   "cell_type": "code",
   "execution_count": null,
   "id": "3a3f5442",
   "metadata": {},
   "outputs": [],
   "source": [
    "a = 0\n",
    "while True:\n",
    "    a = a + 1\n",
    "    if a > 10:\n",
    "        break\n",
    "    print(a)"
   ]
  },
  {
   "cell_type": "markdown",
   "id": "17f4975a",
   "metadata": {},
   "source": [
    "In this case, `True` is always `True` so we use the `break` to tell the loop when we are done. There is also a `continue` statement for flow control inside loops, take a look at `help('continue')`,"
   ]
  },
  {
   "cell_type": "markdown",
   "id": "488fe14f",
   "metadata": {},
   "source": [
    "#### 2.1.2 `for` loops\n",
    "\n",
    "`for` loops are very common in Python and similar to those in other languages. Once nice tweak in python is that the for loop can interate over any sequence"
   ]
  },
  {
   "cell_type": "code",
   "execution_count": null,
   "id": "78db38a5",
   "metadata": {},
   "outputs": [],
   "source": [
    "for animal in ['cat', 'dog', 'elephant']:\n",
    "    print(animal, len(animal))"
   ]
  },
  {
   "cell_type": "code",
   "execution_count": null,
   "id": "0469a3ef",
   "metadata": {},
   "outputs": [],
   "source": [
    "for i in range(10):\n",
    "    print(i, i**2)"
   ]
  },
  {
   "cell_type": "markdown",
   "id": "cec2721a",
   "metadata": {},
   "source": [
    "#### Comprehensions\n",
    "\n",
    "When the loop body is small and simple, you can also use a list comprehension in place of a for loop. Once you get used to the syntax these are very handy, but they can make your code a bit harder for newcomers to follow and it is easy to get carried away so use them sparingly. The syntax is\n",
    "\n",
    "```python\n",
    "[<statement in x> for x in <list>]\n",
    "```\n",
    "\n",
    "and it will generate a list of the values of <statement in x>. Actually you can include an optional if statement after the <list> to filter the list but again it's best to keep list comprehensions short and simple."
   ]
  },
  {
   "cell_type": "code",
   "execution_count": null,
   "id": "c1ff433b",
   "metadata": {},
   "outputs": [],
   "source": [
    "[x for x in range(1, 100)if x % 2 == 1]"
   ]
  },
  {
   "cell_type": "markdown",
   "id": "8f362a78",
   "metadata": {},
   "source": [
    "There is also a notion of dictionary comprehensions"
   ]
  },
  {
   "cell_type": "code",
   "execution_count": null,
   "id": "f505e4be",
   "metadata": {},
   "outputs": [],
   "source": [
    "{f\"{x}^2\": x**2 for x in range(10)}"
   ]
  },
  {
   "cell_type": "markdown",
   "id": "653e740a",
   "metadata": {},
   "source": [
    "#### Exercises\n",
    "\n",
    "1. Make a simple/explicit for loop printing the odd numbers from 1 to 99\n",
    "1. Use nested for loops to print all of the items in this list individually\n",
    "```python\n",
    "regions = [\n",
    "    ['Canada','USA', 'Mexico'],\n",
    "    ['France', 'Germany', 'Romania'],\n",
    "    ['Australia', 'New Zealand']\n",
    "]\n",
    "```\n",
    "1. Redo the first question as a list comprehension"
   ]
  },
  {
   "cell_type": "markdown",
   "id": "9df268b3",
   "metadata": {},
   "source": [
    "## 3.1 Functions\n",
    "\n",
    "### 3.1.1 defining functions\n",
    "Functions let you encapsulate and reuse logic. To define a function in python you use the `def` keyword.\n",
    "\n",
    "Typical form\n",
    "```python\n",
    "def <name>(arguments):\n",
    "    <statements>\n",
    "    return <object>\n",
    "```\n",
    "\n",
    "Basically, `def` is assiging that executable code to the name `<name>`."
   ]
  },
  {
   "cell_type": "code",
   "execution_count": null,
   "id": "834f7176",
   "metadata": {},
   "outputs": [],
   "source": [
    "def double(x):\n",
    "    return 2 * x\n",
    "\n",
    "double(3)"
   ]
  },
  {
   "cell_type": "code",
   "execution_count": null,
   "id": "e87b7e4f",
   "metadata": {},
   "outputs": [],
   "source": [
    "double('Hello')"
   ]
  },
  {
   "cell_type": "markdown",
   "id": "e2ba31d6",
   "metadata": {},
   "source": [
    "Adding more arguments is easy"
   ]
  },
  {
   "cell_type": "code",
   "execution_count": null,
   "id": "18729bb6",
   "metadata": {},
   "outputs": [],
   "source": [
    "def multiplyby(x, n):\n",
    "    return x * n\n",
    "\n",
    "multiplyby(5, 3)"
   ]
  },
  {
   "cell_type": "markdown",
   "id": "1569c700",
   "metadata": {},
   "source": [
    "The arguments and return value(s) don't have to be simple types..."
   ]
  },
  {
   "cell_type": "code",
   "execution_count": null,
   "id": "b7b068bd",
   "metadata": {},
   "outputs": [],
   "source": [
    "multiplyby(\"hip hip, \",3).strip()"
   ]
  },
  {
   "cell_type": "markdown",
   "id": "6b800aae",
   "metadata": {},
   "source": [
    "### 3.1.2 Scope\n",
    "Python uses namespaces to keep variables from colobbering one another and to make modules and code more portable. For example, when you define $\\pi = 3$ you don't want the value defined in the scipy module to clobber it. With namespacing you can safely set the variable x in two different contexts and have them not interfere with each other. When you _want_ to have them interfere with each other, you have to understand the heirarchy of namespaces that python defines (the scope of the name x).\n",
    "\n",
    "The basic heirarchy is something like this...\n",
    "* **B**uilt in: e.g KeyWords open, range, ...\n",
    "  * **G**lobal (module): Things at the top level of a module e.g. random inside numpy\n",
    "    * **E**nclosing function locals\n",
    "      * **L**ocal (function): names assigned within a function and not set global\n",
    "\n",
    "The further down that list you go, the more specific the name is and the idea is that the most specific should win (like CSS etc.). It is usally referred to as the LEGB rule. As an example, if I do `from numpy import random`, then define random as a variable, my definition \"wins\""
   ]
  },
  {
   "cell_type": "code",
   "execution_count": null,
   "id": "b55ceffe",
   "metadata": {},
   "outputs": [],
   "source": [
    "from numpy import random\n",
    "random=3\n",
    "random"
   ]
  },
  {
   "cell_type": "markdown",
   "id": "c6d7f3fd",
   "metadata": {},
   "source": [
    "Sometimes you might want need to access a variable from one of the outer scopes, you can do this as with the global keyword as follows\n"
   ]
  },
  {
   "cell_type": "code",
   "execution_count": null,
   "id": "36a46852",
   "metadata": {},
   "outputs": [],
   "source": [
    "x = 3\n",
    "def increment_x():\n",
    "    x = 0\n",
    "    x += 1\n",
    "\n",
    "increment_x()\n",
    "print(x)"
   ]
  },
  {
   "cell_type": "code",
   "execution_count": null,
   "id": "0158c64b",
   "metadata": {},
   "outputs": [],
   "source": [
    "x = 3\n",
    "def increment_x():\n",
    "    global x\n",
    "    x += 1\n",
    "increment_x()\n",
    "print(x)"
   ]
  },
  {
   "cell_type": "markdown",
   "id": "e2b61544",
   "metadata": {},
   "source": [
    "### 3.1.3 Lambda Functions\n",
    "Python supports the idea of lambda functions. These are basically \"anonymous functions\". You can use them anywhere you would normally use a function, but you don't want to go to the bother of actually naming the thing. This sounds abstract or odd, but it is sometimes useful, I swear!"
   ]
  },
  {
   "cell_type": "code",
   "execution_count": null,
   "id": "e810baad",
   "metadata": {},
   "outputs": [],
   "source": [
    "def operateon(f, x, n):\n",
    "    return f(x, n)\n",
    "\n",
    "operateon(lambda x, n: x**n, 3, 4)"
   ]
  },
  {
   "cell_type": "markdown",
   "id": "cf72e4ef",
   "metadata": {},
   "source": [
    "Lambda functions commonly come up where someone has written code which expects a function as one of the arguments (e.g. massaging numbers to look like dates so that pandas can ingest them). Similar to list comprehensions and generators, you might skip over lambda functions when first learning python but they are worth picking up at sooner or later because they can make your code much neater and more efficient.\n",
    "\n"
   ]
  },
  {
   "cell_type": "markdown",
   "id": "cedaf4c4",
   "metadata": {},
   "source": [
    "#### 3.1.4 Function Arguments\n",
    "Functions act on arguments passed to them between the parentheses. Going beyond the simple examples above, Python adds a little flexibility to how arguments are specified to\n",
    "\n",
    "  * Argument lists can be arbitrarily long and each argument can be an arbitary python object.\n",
    "  * You can include both positional and keyword arguements. Positional arguments are just a list of names (`x`, `y`, `z`), while keyword arguments include values (`x=1`, `y=2`, `z=3`). You can mix the types of arguments, but the positional arguements must come first.\n",
    "  * You can specify default values when writing keyword arguments. e.g If you include `x=1` in the argument list but don't include a value for `x` when calling the function, the value 1 will be used.\n",
    "  * Functions can support arbitrary numbers of positional arguments. To do this, you prefix the argument with a `*`. Inside the function you can iterarte over this argument as a list.\n",
    "  * Functions can support arbitrary keyword arguments. To do this, you prefix the argument with `**`. Inside the function you can iterate over this argument as a dictionary of whatever the caller decided to pass in.\n",
    "\n",
    "These last two points might sound arcane, but they are important and widely used. A good example is matplotlib where plotting functions can use hundreds of arguments. It is much easier to prepare a dictionary of all of your settings and expand that as needed.\n",
    "\n"
   ]
  },
  {
   "cell_type": "code",
   "execution_count": null,
   "id": "77957c23",
   "metadata": {},
   "outputs": [],
   "source": [
    "def arguments(a, b, *args, c=1, **kwargs):\n",
    "    print(f\"a and b are required arguments: {a}, {b}\")\n",
    "    print(f\"and c always has a value: {c}\")\n",
    "    for arg in args:\n",
    "        print(f\"I found an extra argument: {arg}\")\n",
    "    \n",
    "    for k, v in kwargs.items():\n",
    "        print(f\"I found an extra keyword argument: {k}:{v}\")\n",
    "        \n",
    "        \n",
    "arguments(1, 2, 3, 4, 5, c=6, fruit=\"banana\", time=\"noon\", color='red')"
   ]
  },
  {
   "cell_type": "markdown",
   "id": "1fe1c7b2",
   "metadata": {},
   "source": [
    "## 3.2 Exercises\n",
    "\n",
    "1. Write a function which takes two strings as it's arguments and returns a tuple where the first item is both strings concatenated and the second is their combined length\n",
    "1. Write a function which takes a list of numbers and returns the max and min of the elements\n",
    "1. Write a function which takes an arbitrary number of positional arguments and multiplies them together\n",
    "1. Change the function above so that it accepts a single keyword argument which is a binary operator and will apply that operator to all of the positional arguments (try `from operator import mul, add`)"
   ]
  },
  {
   "cell_type": "markdown",
   "id": "fa2baa10",
   "metadata": {},
   "source": [
    "## 4.1 Modules\n",
    "\n",
    "Python is often described as a \"batteries included\" language, in that the basic installation has  a _lot_ of functionality included. Beyond the basics, there is an extensive [standard library](https://docs.python.org/3/library/index.html) which provides some extremely useful functionality.\n",
    "\n",
    "* **os, pathlib, sys, argparse**: Interface with your operating system. Work with files etc.\n",
    "* **string, re**: Working with strings and regular expressions\n",
    "* **math, random, statistics, decimal, fractions**: Basic mathematics (we'll stick with `numpy`)\n",
    "* **time, datetime**: Work with dates and times, datetime interfaces well with `pandas`\n",
    "* **zlib, gzip, bz2, lzma, zipfile, tarfile**: Working with compression\n",
    "* **json, csv**: dealing with files (see also `pandas)\n",
    "* **email, smtplib, urllib**: Internet protocols\n",
    "* **hashlib, hmac, secrets**: Working with cryptography\n",
    "* **unittest**: Testing!                                            \n",
    "* **collections, itertools**:\n",
    "* **pickle, shelve, dmb, sqlite3**: \n",
    "* **subprocess, threading, multiprocessing**:\n",
    "* **asyncio, socket, ssl**:"
   ]
  },
  {
   "cell_type": "markdown",
   "id": "96263664",
   "metadata": {},
   "source": [
    "#### 4.1.1 OS\n",
    "\n",
    "OS integrates with the operating system of the machine where Python is running.\n",
    "\n",
    "\n",
    "  1. Try to find the value of the `HOME` environment variable.\n",
    "  1. What is the current working directory? Try `os.*cwd?` in a python cell"
   ]
  },
  {
   "cell_type": "code",
   "execution_count": null,
   "id": "51b5bf48",
   "metadata": {},
   "outputs": [],
   "source": [
    "import os"
   ]
  },
  {
   "cell_type": "code",
   "execution_count": null,
   "id": "84feac1b",
   "metadata": {},
   "outputs": [],
   "source": [
    "os.environ['HOME']"
   ]
  },
  {
   "cell_type": "code",
   "execution_count": null,
   "id": "f33333bf",
   "metadata": {},
   "outputs": [],
   "source": [
    "os.getcwd()"
   ]
  },
  {
   "cell_type": "markdown",
   "id": "34aab264",
   "metadata": {},
   "source": [
    "#### 4.1.2 Datetime\n",
    "\n",
    "Datetime provides ckasses for manipulating dates and times. For the most part we'll end up using `pandas` to do this for us, but there is significant overlap and `datetime` is well worth knowing"
   ]
  },
  {
   "cell_type": "code",
   "execution_count": null,
   "id": "f3263e45",
   "metadata": {},
   "outputs": [],
   "source": [
    "from datetime import date, datetime"
   ]
  },
  {
   "cell_type": "markdown",
   "id": "7808d147",
   "metadata": {},
   "source": [
    " 1. Import the `date` object and use it to get today's date\n",
    " 1. Calculate the number of days between Jan 1st and today\n",
    " 1. Parse this string to a datetime \"2021, August 3 11AM\" (try `datetime.strptime`)"
   ]
  },
  {
   "cell_type": "code",
   "execution_count": null,
   "id": "80d27b8d",
   "metadata": {},
   "outputs": [],
   "source": [
    "date.today()"
   ]
  },
  {
   "cell_type": "code",
   "execution_count": null,
   "id": "eea10211",
   "metadata": {},
   "outputs": [],
   "source": [
    "(date.today() - date(2021,1,1)).days"
   ]
  },
  {
   "cell_type": "code",
   "execution_count": null,
   "id": "f1594080",
   "metadata": {},
   "outputs": [],
   "source": [
    "datetime.strptime(\"2021, August 3 11AM\", \"%Y, %B %d %I%p\")"
   ]
  },
  {
   "cell_type": "markdown",
   "id": "54ea4803",
   "metadata": {},
   "source": [
    "#### 4.1.3 Regular Expressions (`re`)"
   ]
  },
  {
   "cell_type": "markdown",
   "id": "4124d7f1",
   "metadata": {},
   "source": [
    "A regular expressions is...\n",
    "\n",
    "> A sequence of characters that specifies a search pattern - _[Wikipedia: Regular Expression](https://en.wikipedia.org/wiki/Regular_expression)_\n",
    "\n",
    "Any time you are working with text where there is any sort of regularity or structure in the text, regular expressions can help you pick out the parts you need. [Python Regular Expressions](https://docs.python.org/3/howto/regex.html#) are implemented in the `re` module. At a very basic level, `re` can help you match explicit strings within blocks of text..."
   ]
  },
  {
   "cell_type": "code",
   "execution_count": null,
   "id": "9b8819ef",
   "metadata": {},
   "outputs": [],
   "source": [
    "import re\n",
    "\n",
    "line = \"Of all the gin joints in all the towns in all the world, she walks into mine.\"\n",
    "\n",
    "x = re.findall('in', line)\n",
    "x"
   ]
  },
  {
   "cell_type": "markdown",
   "id": "2cff0236",
   "metadata": {},
   "source": [
    "But regular expressions can do a whole lot more. The basic idea is to use a special language to describe exactly what you are trying to find. Here is a simple example\n",
    "\n",
    "```\n",
    "^[A-Z]{1}[a-z]+\n",
    "```\n",
    "\n",
    "and here is how to interprete that specific regular expression (regex)\n",
    "\n",
    "  * The `^` at the beginning says to match the beginning of a line (first char)\n",
    "  * The `[A-Z]{1}` is a single instruction\n",
    "      * `[A-Z]` match any upper case letter from `A` to `Z`\n",
    "      * `{1}` match exactly 1 occurence of the preceeding item (1 upper case letter)\n",
    "  * `[a-z]+` matches one _or more_ occurrences of the letters `a` to `z` \n",
    "\n",
    "So this regex should be able to match a single (ascii) word at the beginning of a line which starts with a capital letter."
   ]
  },
  {
   "cell_type": "code",
   "execution_count": null,
   "id": "b8d6808c",
   "metadata": {},
   "outputs": [],
   "source": [
    "dahl = \"\"\"\n",
    "In fairy-tales, witches always wear silly black hats and black coats,\n",
    "and they ride on broomsticks. But this is not a fairy-tale. This is \n",
    "about REAL WITCHES.\n",
    "\"\"\"\n",
    "\n",
    "for line, text in enumerate(dahl.strip().split('\\n')):\n",
    "    \n",
    "    matches = re.search(r'[A-Z]{1}[a-z]+', text)\n",
    "\n",
    "    print(f\"On line matches {matches}\")"
   ]
  },
  {
   "cell_type": "markdown",
   "id": "9dd25f44",
   "metadata": {},
   "source": [
    "In addition to just telling you if it finds a match to your regular expression, the `re` module can help you extract the specific text which matched and use it in your code. This is called [match grouping](https://docs.python.org/3/howto/regex.html#grouping) and to use it, you surround the items you want to extract with parentheses"
   ]
  },
  {
   "cell_type": "code",
   "execution_count": null,
   "id": "067e2172",
   "metadata": {},
   "outputs": [],
   "source": [
    "race = [\n",
    "    \"Kiesenhofer AUT  3:52:45\",\n",
    "    \"Vleuten     NED  3:54:00\",\n",
    "    \"Borghini    ITA  3:54:14\"\n",
    "]\n",
    "\n",
    "m = re.compile('^([A-Z]{1}[a-z]+)\\s+([A-Z]{3})\\s+(\\d{1,2}\\:\\d{1,2}\\:\\d{1,2})$')\n",
    "\n",
    "for cyclist in race:\n",
    "    name, country, time = m.match(cyclist).groups()\n",
    "    print(f\"{name} finished in {time} from {country}\")"
   ]
  },
  {
   "cell_type": "markdown",
   "id": "e4e84d79",
   "metadata": {},
   "source": [
    "Another handy trick with grouping is to assign names to the match groups. The basic syntax looks like `(?P<name>[A-Z]{1}[a-z]+)` but see the [named groups documentation](https://docs.python.org/3/howto/regex.html#non-capturing-and-named-groups) for more details."
   ]
  },
  {
   "cell_type": "markdown",
   "id": "213114d5",
   "metadata": {},
   "source": [
    "#### Tips\n",
    "\n",
    "Constructing regex's can be a bit of an art form and the final expressions _can_ become hard to read (even when you are the person who wrote them!). All I can say is it is worth slowing down, reading and reading them carefully. Once you've broken them down into components they become much more digestible and the rewards you will get from being able to wield regex's far outweigh the difficulty in learning them.\n",
    "\n",
    "* The [Python Regex Documentation](https://docs.python.org/3/howto/regex.html#) is very good\n",
    "* Make sure you understand the difference between `re.search`, `re.match`, `re.findall`\n",
    "* [pythex.org](pythex.org) is a very handy website which lets you put in your regular expression and a test string. It'll show you the results and explain how it used your regex to get them with syntax highlighting. If you stumble across an unreadable regex in the wild, [pythex.org](pythex.org) can be a handy first step in understanding it.\n",
    "* If there is _even more_ structure in your data (e.g. a CSV), then regex's might _not_ be the answer, in that case modules like pandas can do all of your regexes and matching for you."
   ]
  },
  {
   "cell_type": "markdown",
   "id": "8236a348",
   "metadata": {},
   "source": [
    "#### 4.1.4 Collections \n",
    "\n",
    "In addition to the builtin collection types, the Python standard library includes the [collections module](https://docs.python.org/3/library/collections.html) which adds some useful variations.\n",
    "\n",
    "  * namedtuple: Like a tuple, but with names!\n",
    "  * dequeue: A list like container with fast appends and pops\n",
    "  * Chainmap: Combine several dictionaries\n",
    "  * Counter: Turns an iterable into a dictionary of keys and value counts\n",
    "  * defaultdict: Like a dictionary but works with missing values\n",
    "  * UserDict, UserList, UserString: Subclasses of existing collections\n",
    "  \n",
    "We'll just take a quick look at Counter for now, but they are all worth playing with.\n"
   ]
  },
  {
   "cell_type": "code",
   "execution_count": null,
   "id": "7eed88e9",
   "metadata": {},
   "outputs": [],
   "source": [
    "from collections import Counter\n",
    "\n",
    "message = \"we slept in what had once been the gymnasium\"\n",
    "\n",
    "letter_count = Counter(message)\n",
    "letter_count.most_common()"
   ]
  },
  {
   "cell_type": "markdown",
   "id": "0c42e197",
   "metadata": {},
   "source": [
    "As with many things in python, you _could_ implement this functionality yourself, but when there's a reliable and efficient module available you should make use of it!"
   ]
  },
  {
   "cell_type": "markdown",
   "id": "af3cb1ef",
   "metadata": {},
   "source": [
    "## 4.2 Exercises\n",
    "\n",
    "1. Using the datetime module to find the day of the week for the date `2322-06-13`\n",
    "1. Using the `re` module, write a regular expression to extract the first dollar amount from the following sentence\n",
    "> Lunch cost \\\\$12.00, but I also spent \\\\$4.00 on a coffee."
   ]
  },
  {
   "cell_type": "markdown",
   "id": "34b8cd92",
   "metadata": {},
   "source": [
    "## 5. Classes\n",
    "\n",
    "Python implements an `object` type and all of the basic types (int, boolean, string) etc. are actually subclasses of that type. When you use the `class` keyword to create your own objects, they will also subclass object, placing your objects on the same level as the built in types."
   ]
  },
  {
   "cell_type": "code",
   "execution_count": null,
   "id": "b324adfb",
   "metadata": {},
   "outputs": [],
   "source": [
    "issubclass(int, object)"
   ]
  },
  {
   "cell_type": "code",
   "execution_count": null,
   "id": "4e410ba4",
   "metadata": {},
   "outputs": [],
   "source": [
    "class Vehicle:\n",
    "    def honk(self):\n",
    "        print(\"HONK\")"
   ]
  },
  {
   "cell_type": "code",
   "execution_count": null,
   "id": "ce98f352",
   "metadata": {},
   "outputs": [],
   "source": [
    "issubclass(Vehicle, object)"
   ]
  },
  {
   "cell_type": "markdown",
   "id": "85607c2a",
   "metadata": {},
   "source": [
    "We can create instances with `<classname>()`"
   ]
  },
  {
   "cell_type": "code",
   "execution_count": null,
   "id": "9796071d",
   "metadata": {},
   "outputs": [],
   "source": [
    "IansBike = Vehicle()\n",
    "IansBike.honk()"
   ]
  },
  {
   "cell_type": "markdown",
   "id": "bbaf2ca7",
   "metadata": {},
   "source": [
    "Part of what we inherited from the `object` was the default `__init__` constructor (and a lot of other methods, take a look at the tab completion or `dir(IansBike)`.\n"
   ]
  },
  {
   "cell_type": "markdown",
   "id": "9f8a88b2",
   "metadata": {},
   "source": [
    "Python supports multiple ineritance. The lookup for multiple inheritance is depth first then left to right, in this case the `.m()` method of `B` and `C` are at the same depth but `B` occurs first so that is what we get.  "
   ]
  },
  {
   "cell_type": "markdown",
   "id": "8a69addd",
   "metadata": {},
   "source": [
    "## 5.2 Exercises\n",
    "\n",
    "1. Rewrite the the `Vehicle` class to include an explicit `__init__` constructor which can take one argument called alert which contains the noise the vehicle horn should make. Cars should go \"HONK\" and bikes should go \"RING\"\n",
    "\n",
    "1. Write a subclass of the Vehicle class called `Bus` whose contructor requires a `number` argument which gives the number of the bus. Try overriding the `__repr__()` method to change how `Bus`s are displayed."
   ]
  },
  {
   "cell_type": "code",
   "execution_count": null,
   "id": "268fc429",
   "metadata": {},
   "outputs": [],
   "source": []
  }
 ],
 "metadata": {
  "kernelspec": {
   "display_name": "Python 3 (ipykernel)",
   "language": "python",
   "name": "python3"
  },
  "language_info": {
   "codemirror_mode": {
    "name": "ipython",
    "version": 3
   },
   "file_extension": ".py",
   "mimetype": "text/x-python",
   "name": "python",
   "nbconvert_exporter": "python",
   "pygments_lexer": "ipython3",
   "version": "3.10.4"
  }
 },
 "nbformat": 4,
 "nbformat_minor": 5
}
