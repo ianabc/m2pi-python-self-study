{
 "cells": [
  {
   "cell_type": "markdown",
   "metadata": {},
   "source": [
    "## Problem 2: Survey Results\n",
    "\n",
    "> This problem is a tweak of [Advent of Code 2020 problem 6](https://adventofcode.com/2020/day/6).\n",
    "\n",
    "People have been asked to answer yes or no to a list of 26 questions (labeled 'a', 'b', ... 'z'). The responses are recorded in [this text file](https://m2pi.syzygy.ca/data/day_6.txt) by noting down the label of each question for which the response was \"yes\". For example, responses for three people might look like\n",
    "```\n",
    "afuy\n",
    "rz\n",
    "aypq\n",
    "```\n",
    "You should interprete these records as saying the first person has answered yes to questions `a`, `f`, `u` and `y`. The second answered yes to `r` and `z` etc. We assume that everyone answered yes to at least one question.\n",
    "\n",
    "Each line represents the response of a single person, but we will also be asked to look at the responses of _groups_ of people. In the file, each group is separated by a single blank line. Extending our example from above...\n",
    "```\n",
    "afuy\n",
    "rz\n",
    "aypq\n",
    "\n",
    "anqvz\n",
    "\n",
    "bchklp\n",
    "bnrt\n",
    "```\n",
    "represents 3 groups. The second group has one member and the third has two members."
   ]
  },
  {
   "cell_type": "markdown",
   "metadata": {},
   "source": [
    "### Question 2.1\n",
    "\n",
    "Count the number of questions answered \"yes\" by each **group**. Duplicate answers are only counted once e.g. For the first group the answer should be 8 (`a` and `y` appear twice but we only count them once)."
   ]
  },
  {
   "cell_type": "markdown",
   "metadata": {},
   "source": [
    "### Hints 2.1 (click ... to expand)"
   ]
  },
  {
   "cell_type": "markdown",
   "metadata": {
    "jupyter": {
     "source_hidden": true
    }
   },
   "source": [
    "* Split the entries into groups based on the newline pattern (`\\n\\n`)\n",
    "* You can use `set` to help with duplicates"
   ]
  },
  {
   "cell_type": "markdown",
   "metadata": {},
   "source": [
    "### Answer 2.1 (click ... to expand)"
   ]
  },
  {
   "cell_type": "markdown",
   "metadata": {
    "jupyter": {
     "source_hidden": true
    }
   },
   "source": [
    "6249\n",
    "\n"
   ]
  },
  {
   "cell_type": "markdown",
   "metadata": {},
   "source": [
    "### Question 2.2\n",
    "\n",
    "In part 2 of this problem, we are told to count the total number of questions for which all participants in a group answered yes. For our example\n",
    "above...\n",
    "```\n",
    "afuy\n",
    "rz\n",
    "aypq\n",
    "\n",
    "anqvz\n",
    "\n",
    "bchklp\n",
    "bnrt\n",
    "```\n",
    "The total for the first group would be 0 (no letter appears in all three lines). The total for the second group would be 5 because the group size is 1 `a`, `n`, `q`, `v`, `z` all appear once. The total for the third group would be 1 since `b` is the only letter which appears on all lines."
   ]
  },
  {
   "cell_type": "markdown",
   "metadata": {},
   "source": [
    "### Hints 2.1 (click ... to expand)"
   ]
  },
  {
   "cell_type": "markdown",
   "metadata": {
    "jupyter": {
     "source_hidden": true
    }
   },
   "source": [
    "* I found `Counter` useful for this one\n",
    "\n",
    "```python\n",
    "from collections import Counter\n",
    "```"
   ]
  },
  {
   "cell_type": "markdown",
   "metadata": {},
   "source": [
    "### Answer 2.1 (click ... to expand)"
   ]
  },
  {
   "cell_type": "markdown",
   "metadata": {
    "jupyter": {
     "source_hidden": true
    }
   },
   "source": [
    "\n",
    "3103"
   ]
  }
 ],
 "metadata": {
  "kernelspec": {
   "display_name": "Python 3 (ipykernel)",
   "language": "python",
   "name": "python3"
  },
  "language_info": {
   "codemirror_mode": {
    "name": "ipython",
    "version": 3
   },
   "file_extension": ".py",
   "mimetype": "text/x-python",
   "name": "python",
   "nbconvert_exporter": "python",
   "pygments_lexer": "ipython3",
   "version": "3.10.4"
  }
 },
 "nbformat": 4,
 "nbformat_minor": 4
}
